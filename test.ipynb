{
 "cells": [
  {
   "cell_type": "code",
   "execution_count": 1,
   "id": "a02b2e19-6aab-4f9e-8f32-34c4df93319f",
   "metadata": {},
   "outputs": [],
   "source": [
    "import cv2 as cv\n",
    "import matplotlib.pyplot as plt\n",
    "import numpy as np\n",
    "import os\n",
    "from os import listdir\n"
   ]
  },
  {
   "cell_type": "code",
   "execution_count": null,
   "id": "6011eb37-5160-46ad-9809-0ccc37ed5281",
   "metadata": {},
   "outputs": [],
   "source": [
    "\n",
    "# dir = 'datasets/CASIA_Iris_Image_Database_(version1.0)/001/1'\n",
    "        \n",
    "# test = cv.imread(os.path.join(dir, '001_1_2.bmp'))\n",
    "\n",
    "test = cv.imread('001_1_1.bmp')\n",
    "plt.imshow(test)\n",
    "\n",
    "test = cv.cvtColor(test, cv.COLOR_BGR2GRAY)\n",
    "test = cv.equalizeHist(test)\n",
    "plt.imshow(test, cmap=\"gray\")\n",
    "\n",
    "\n",
    "# LOCALIZATION\n",
    "test = cv.medianBlur(test,5)\n",
    "edges = cv.Canny(test,50,200)\n",
    "\n",
    "plt.imshow(edges, cmap = \"gray\")\n",
    "\n",
    "circles = cv.HoughCircles(edges,cv.HOUGH_GRADIENT,1,20,\n",
    "                            param1=50,param2=30,minRadius=10,maxRadius=70)\n",
    "\n",
    "print(circles)\n",
    "\n",
    "# saving iris and pupil values \n",
    "# circles = np.uint16(np.around(circles))\n",
    "# circles\n",
    "# for i in circles[0,:]:\n",
    "#     centerX = i[0]\n",
    "#     centerY = i[1]\n",
    "#     radius = i[2]\n",
    "#     iris = (centerX, centerY, (radius * 2))\n",
    "#     pupil = (centerX, centerY, radius)\n",
    "#     # draw the outer circle\n",
    "#     # cv.circle(test,(iris[0], iris[1]), iris[2],(0,255,0),2)\n",
    "#     cv.circle(test,(pupil[0], pupil[1]), pupil[2],(0,255,0),2)\n",
    "#     # print(pupil)\n",
    "    \n",
    "\n",
    "\n",
    "# circles2 = cv.HoughCircles(edges,cv.HOUGH_GRADIENT, 1, pupil[2] * 2,\n",
    "#                             param1=50,param2=30,minRadius=0,maxRadius=0)\n",
    "#                            # param2=150)\n",
    "\n",
    "# circles2 = np.uint16(circles2)\n",
    "# circles2\n",
    "# for i in circles2[0,:]:\n",
    "#     # draw the outer circle\n",
    "#     cv.circle(test,(i[0],i[1]),i[2],(0,255,0),2)\n",
    "#     # center = (pupil[0], pupil[1])\n",
    "#     # radius = i[2]\n",
    "#     # mask = np.zeros((test.shape[0], test.shape[1], 1), np.uint8)\n",
    "#     # cv.circle(mask, center, radius, (255, 255, 255), thickness = -1)\n",
    "#     # # Mask the iris and crop everything outside of its radius.\n",
    "#     # test = cv.bitwise_and(test, mask)\n",
    "\n",
    "    \n",
    "cv.imshow('detected circles',test)\n",
    "cv.waitKey(0)\n",
    "cv.destroyAllWindows()"
   ]
  },
  {
   "cell_type": "code",
   "execution_count": null,
   "id": "5cb96e0a-4419-4f5b-946b-b6fb4894bb19",
   "metadata": {},
   "outputs": [],
   "source": []
  },
  {
   "cell_type": "code",
   "execution_count": null,
   "id": "b40597b2-362c-4519-8745-4d174d923822",
   "metadata": {},
   "outputs": [],
   "source": []
  },
  {
   "cell_type": "code",
   "execution_count": null,
   "id": "3638e675-66e7-442b-bee8-3a8da19d10d3",
   "metadata": {},
   "outputs": [],
   "source": []
  }
 ],
 "metadata": {
  "kernelspec": {
   "display_name": "Python 3 (ipykernel)",
   "language": "python",
   "name": "python3"
  },
  "language_info": {
   "codemirror_mode": {
    "name": "ipython",
    "version": 3
   },
   "file_extension": ".py",
   "mimetype": "text/x-python",
   "name": "python",
   "nbconvert_exporter": "python",
   "pygments_lexer": "ipython3",
   "version": "3.9.12"
  }
 },
 "nbformat": 4,
 "nbformat_minor": 5
}
